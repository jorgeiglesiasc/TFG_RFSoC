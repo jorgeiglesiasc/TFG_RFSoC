{
 "cells": [
  {
   "cell_type": "code",
   "execution_count": 1,
   "id": "44a9231f",
   "metadata": {},
   "outputs": [
    {
     "data": {
      "application/javascript": [
       "\n",
       "try {\n",
       "require(['notebook/js/codecell'], function(codecell) {\n",
       "  codecell.CodeCell.options_default.highlight_modes[\n",
       "      'magic_text/x-csrc'] = {'reg':[/^%%microblaze/]};\n",
       "  Jupyter.notebook.events.one('kernel_ready.Kernel', function(){\n",
       "      Jupyter.notebook.get_cells().map(function(cell){\n",
       "          if (cell.cell_type == 'code'){ cell.auto_highlight(); } }) ;\n",
       "  });\n",
       "});\n",
       "} catch (e) {};\n"
      ]
     },
     "metadata": {},
     "output_type": "display_data"
    },
    {
     "data": {
      "application/javascript": [
       "\n",
       "try {\n",
       "require(['notebook/js/codecell'], function(codecell) {\n",
       "  codecell.CodeCell.options_default.highlight_modes[\n",
       "      'magic_text/x-csrc'] = {'reg':[/^%%pybind11/]};\n",
       "  Jupyter.notebook.events.one('kernel_ready.Kernel', function(){\n",
       "      Jupyter.notebook.get_cells().map(function(cell){\n",
       "          if (cell.cell_type == 'code'){ cell.auto_highlight(); } }) ;\n",
       "  });\n",
       "});\n",
       "} catch (e) {};\n"
      ]
     },
     "metadata": {},
     "output_type": "display_data"
    }
   ],
   "source": [
    "from pynq.overlays.base import BaseOverlay\n",
    "from IPython.display import clear_output\n",
    "from pynq import allocate\n",
    "from time import sleep\n",
    "import plotly.graph_objs as go\n",
    "import ipywidgets as ipw\n",
    "import numpy as np\n",
    "import threading\n",
    "import socket\n",
    "import sys\n",
    "\n",
    "overlay = BaseOverlay('base.bit')\n",
    "\n",
    "UDP_IP = \"10.42.0.1\" #PC-10.42.0.1 (enx0050b623bd36) RFSoC-10.42.0.85 General-127.0.0.1\n",
    "UDP_PORT = 5005"
   ]
  },
  {
   "cell_type": "code",
   "execution_count": 2,
   "id": "04ff5ea2",
   "metadata": {},
   "outputs": [],
   "source": [
    "for led in overlay.leds:\n",
    "    led.off()\n",
    "\n",
    "overlay.init_rf_clks()"
   ]
  },
  {
   "cell_type": "code",
   "execution_count": 3,
   "id": "2e2d7354",
   "metadata": {},
   "outputs": [],
   "source": [
    "def updRX():\n",
    "    rx = 1;\n",
    "    sock = socket.socket(socket.AF_INET, # Internet\n",
    "                         socket.SOCK_DGRAM) # UDP\n",
    "    sock.bind((UDP_IP, UDP_PORT))\n",
    "\n",
    "    while rx:\n",
    "        data, addr = sock.recvfrom(4096) # buffer size in bytes\n",
    "        print(\"\\nreceived message: %s\" % data)\n",
    "        rx = 0\n",
    "\n",
    "def updTX(message):    \n",
    "    print(\"UDP target IP: %s\" % UDP_IP)\n",
    "    print(\"UDP target port: %s\" % UDP_PORT)\n",
    "    print(\"send message: %s\" % message)\n",
    "\n",
    "    sock = socket.socket(socket.AF_INET, # Internet\n",
    "                         socket.SOCK_DGRAM) # UDP\n",
    "    sock.sendto(message, (UDP_IP, UDP_PORT))"
   ]
  },
  {
   "cell_type": "code",
   "execution_count": 4,
   "id": "45cd791a",
   "metadata": {},
   "outputs": [],
   "source": [
    "def txSamples(num_dac, num_adc):\n",
    "    dac= overlay.radio.transmitter.channel[num_dac]\n",
    "    dac.dac_block.MixerSettings['Freq'] = 1000 # MHz \n",
    "    dac.control.gain = 0.5\n",
    "    dac.control.enable = True\n",
    "    \n",
    "    adc = overlay.radio.receiver.channel[num_adc]\n",
    "    delayLEDs = 0.1\n",
    "\n",
    "    for led in overlay.leds:\n",
    "        led.on()\n",
    "    while (overlay.buttons[0].read()==0):\n",
    "        if (overlay.buttons[3].read()):\n",
    "            clear_output(wait=True)\n",
    "            power = overlay.switches.read()+4;\n",
    "            number_samples = 2**power\n",
    "            print(\"Power value: {0}\".format(power))\n",
    "            if (power > 15):\n",
    "                print(\"Packet size incorrect, power value should be in range 4 to 15.\")\n",
    "            else:\n",
    "                for led in overlay.leds:\n",
    "                    led.off()\n",
    "                sleep(delayLEDs)\n",
    "                for led in overlay.leds:\n",
    "                    led.toggle()\n",
    "                    sleep(delayLEDs)\n",
    "                updTX(np.array(adc.transferIQ(number_samples))) #np.array per passar de list a array\n",
    "\n",
    "    clear_output(wait=True)\n",
    "    print('End of connection...')\n",
    "    for led in overlay.leds:\n",
    "        led.off()"
   ]
  },
  {
   "cell_type": "code",
   "execution_count": 5,
   "id": "c2dd57df",
   "metadata": {},
   "outputs": [],
   "source": [
    "ttxSamples = threading.Thread(target=txSamples,args=(1,3))\n",
    "    #tRX = threading.Thread(target=updRX)\n",
    "\n",
    "ttxSamples.start()\n",
    "    #tRX.start()"
   ]
  },
  {
   "cell_type": "code",
   "execution_count": null,
   "id": "82610266",
   "metadata": {
    "scrolled": false
   },
   "outputs": [
    {
     "name": "stdout",
     "output_type": "stream",
     "text": [
      "Power value: 12\n",
      "UDP target IP: 10.42.0.1\n",
      "UDP target port: 5005\n",
      "send message: [-4911  -248 -4225 ...  3777  -545  4883]\n"
     ]
    }
   ],
   "source": [
    "ttxSamples.join()\n",
    "    #tRX.join()\n",
    "\n",
    "\n",
    "#Si error OSError: [Errno 90] Message too long:\n",
    "#\n",
    "    #You can do that by changing the MTU (Maximum Transfer Unit) of your interface. \n",
    "    #This is the maximal number of bytes a frame can contain.\n",
    "    #\n",
    "    #ifconfig eth0 mtu 2000 up\n",
    "    \n",
    "#Ara per ara (20-10-23), es queixa quan són més de \"Power value: 13\""
   ]
  }
 ],
 "metadata": {
  "kernelspec": {
   "display_name": "Python 3 (ipykernel)",
   "language": "python",
   "name": "python3"
  },
  "language_info": {
   "codemirror_mode": {
    "name": "ipython",
    "version": 3
   },
   "file_extension": ".py",
   "mimetype": "text/x-python",
   "name": "python",
   "nbconvert_exporter": "python",
   "pygments_lexer": "ipython3",
   "version": "3.10.4"
  }
 },
 "nbformat": 4,
 "nbformat_minor": 5
}
