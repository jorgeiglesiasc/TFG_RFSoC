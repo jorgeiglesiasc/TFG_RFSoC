{
 "cells": [
  {
   "cell_type": "code",
   "execution_count": 1,
   "id": "44a9231f",
   "metadata": {},
   "outputs": [
    {
     "data": {
      "application/javascript": [
       "\n",
       "try {\n",
       "require(['notebook/js/codecell'], function(codecell) {\n",
       "  codecell.CodeCell.options_default.highlight_modes[\n",
       "      'magic_text/x-csrc'] = {'reg':[/^%%microblaze/]};\n",
       "  Jupyter.notebook.events.one('kernel_ready.Kernel', function(){\n",
       "      Jupyter.notebook.get_cells().map(function(cell){\n",
       "          if (cell.cell_type == 'code'){ cell.auto_highlight(); } }) ;\n",
       "  });\n",
       "});\n",
       "} catch (e) {};\n"
      ]
     },
     "metadata": {},
     "output_type": "display_data"
    },
    {
     "data": {
      "application/javascript": [
       "\n",
       "try {\n",
       "require(['notebook/js/codecell'], function(codecell) {\n",
       "  codecell.CodeCell.options_default.highlight_modes[\n",
       "      'magic_text/x-csrc'] = {'reg':[/^%%pybind11/]};\n",
       "  Jupyter.notebook.events.one('kernel_ready.Kernel', function(){\n",
       "      Jupyter.notebook.get_cells().map(function(cell){\n",
       "          if (cell.cell_type == 'code'){ cell.auto_highlight(); } }) ;\n",
       "  });\n",
       "});\n",
       "} catch (e) {};\n"
      ]
     },
     "metadata": {},
     "output_type": "display_data"
    }
   ],
   "source": [
    "from pynq.overlays.base import BaseOverlay\n",
    "from IPython.display import clear_output\n",
    "from pynq import allocate\n",
    "from time import sleep\n",
    "import plotly.graph_objs as go\n",
    "import ipywidgets as ipw\n",
    "import numpy as np\n",
    "import threading\n",
    "import socket\n",
    "import sys\n",
    "import xrfdc\n",
    "\n",
    "overlay = BaseOverlay('base.bit')\n",
    "\n",
    "UDP_IP = \"10.42.0.1\" #PC-10.42.0.1 (enx0050b623bd36) RFSoC-10.42.0.85 General-127.0.0.1\n",
    "UDP_PORT = 5005"
   ]
  },
  {
   "cell_type": "code",
   "execution_count": 2,
   "id": "e6f27cae",
   "metadata": {
    "scrolled": false
   },
   "outputs": [
    {
     "data": {
      "application/vnd.jupyter.widget-view+json": {
       "model_id": "499ed68926374673ae1be3bcdc985921",
       "version_major": 2,
       "version_minor": 0
      },
      "text/plain": [
       "VBox(children=(FigureWidget({\n",
       "    'data': [{'name': 'Spectrum',\n",
       "              'type': 'scatter',\n",
       "             …"
      ]
     },
     "metadata": {},
     "output_type": "display_data"
    }
   ],
   "source": [
    "for led in overlay.leds:\n",
    "    led.off()\n",
    "\n",
    "overlay.init_rf_clks()\n",
    "\n",
    "#---Socket---\n",
    "sock = socket.socket(socket.AF_INET, # Internet\n",
    "                     socket.SOCK_DGRAM)  # UDP\n",
    "\n",
    "#---DAC & ADC---\n",
    "freq = 500\n",
    "\n",
    "num_dac = 1 #DAC_A\n",
    "dac = overlay.radio.transmitter.channel[num_dac]\n",
    "dac.dac_block.MixerSettings['Freq'] = freq # MHz \n",
    "dac.control.gain = 0.001\n",
    "dac.control.enable = True\n",
    "    \n",
    "num_adc = 3 #ADC_A\n",
    "adc = overlay.radio.receiver.channel[num_adc]    \n",
    "adc.adc_tile.DynamicPLLConfig(1, 491.52, 4915.2)  #f_ADC = 4915.2MHz  f_sampling = fADC/decimation_factor\n",
    "                                                #def DynamicPLLConfig(self, source, ref_clk_freq, samp_rate):\n",
    "                                                #Si cambio ref_clk_freq:  Input reference clock frequency (91.520000 MHz) does not respect the specifications for internal PLL usage. Please use a different frequency (102.406250 - 614.000000 MHz) or bypass the internal PLL for ADC 2 in XRFdc_DynamicPLLConfig\n",
    "adc.adc_block.DecimationFactor = 40 #1x (bypass), 2x, 3x, 4x, 5x, 6x, 8x, 10x, 12x, 16x, 20x, 24x, 40x al final sera DecimationFactor multiplicado por x15\n",
    "sleep(0.6)\n",
    "adc.adc_block.NyquistZone = 1\n",
    "adc.adc_block.MixerSettings = {\n",
    "    'CoarseMixFreq':  xrfdc.COARSE_MIX_BYPASS,   #Cambiarlo no hace nada\n",
    "    'EventSource':    xrfdc.EVNT_SRC_TILE,       #Cambiarlo no hace nada\n",
    "    'FineMixerScale': xrfdc.MIXER_SCALE_1P0,     #Cambiarlo no hace nada\n",
    "    'Freq':           -freq,                 #F_mixer\n",
    "    'MixerMode':      xrfdc.MIXER_MODE_R2C, #MIXER_MODE_C2C parecia que no perdia tantas muestras\n",
    "    'MixerType':      xrfdc.MIXER_TYPE_FINE, #MIXER_TYPE_COARSE fa que 'Freq'=0 sempre\n",
    "    'PhaseOffset':    0.0                      #Cambiarlo no hace nada\n",
    "}\n",
    "adc.adc_block.UpdateEvent(xrfdc.EVENT_MIXER) #importante no borrar\n",
    "adc.adc_tile.SetupFIFO(True)\n",
    "\n",
    "\n",
    "\n",
    "\n",
    "\n",
    "power = overlay.switches.read()+4;\n",
    "number_samples = 2**power\n",
    "\n",
    "import ipywidgets as ipw\n",
    "from rfsystem.spectrum_sweep import SpectrumAnalyser\n",
    "\n",
    "analysers = []\n",
    "sample_frequency = 4915.2/adc.adc_block.DecimationFactor\n",
    "analysers.append(\n",
    "    SpectrumAnalyser(channel = adc,\n",
    "                     sample_frequency = sample_frequency,\n",
    "                     number_samples = number_samples,\n",
    "                     title = ''.join(['Spectrum Analyser Channel RX']),\n",
    "                     height = None,\n",
    "                     width = None))\n",
    "\n",
    "ipw.VBox([analyser.spectrum_plot.get_plot() for analyser in analysers])"
   ]
  },
  {
   "cell_type": "code",
   "execution_count": 3,
   "id": "c2dd57df",
   "metadata": {},
   "outputs": [
    {
     "ename": "KeyboardInterrupt",
     "evalue": "",
     "output_type": "error",
     "traceback": [
      "\u001b[0;31m---------------------------------------------------------------------------\u001b[0m",
      "\u001b[0;31mKeyboardInterrupt\u001b[0m                         Traceback (most recent call last)",
      "Input \u001b[0;32mIn [3]\u001b[0m, in \u001b[0;36m<cell line: 8>\u001b[0;34m()\u001b[0m\n\u001b[1;32m     13\u001b[0m                     \u001b[38;5;66;03m#np.array per passar de list a array\u001b[39;00m\n\u001b[1;32m     14\u001b[0m         \u001b[38;5;28;01mfor\u001b[39;00m analyser \u001b[38;5;129;01min\u001b[39;00m analysers:\n\u001b[0;32m---> 15\u001b[0m             \u001b[43manalyser\u001b[49m\u001b[38;5;241;43m.\u001b[39;49m\u001b[43mupdate_spectrum\u001b[49m\u001b[43m(\u001b[49m\u001b[43m)\u001b[49m\n\u001b[1;32m     17\u001b[0m \u001b[38;5;28mprint\u001b[39m(\u001b[38;5;124m'\u001b[39m\u001b[38;5;124mEnd of connection...\u001b[39m\u001b[38;5;124m'\u001b[39m)\n\u001b[1;32m     18\u001b[0m \u001b[38;5;28;01mfor\u001b[39;00m led \u001b[38;5;129;01min\u001b[39;00m overlay\u001b[38;5;241m.\u001b[39mleds:\n",
      "File \u001b[0;32m/usr/local/share/pynq-venv/lib/python3.10/site-packages/rfsystem/spectrum_sweep.py:242\u001b[0m, in \u001b[0;36mSpectrumAnalyser.update_spectrum\u001b[0;34m(self)\u001b[0m\n\u001b[1;32m    239\u001b[0m \u001b[38;5;124;03m\"\"\"Retrieve new spectrum data and update the plot.\u001b[39;00m\n\u001b[1;32m    240\u001b[0m \u001b[38;5;124;03m\"\"\"\u001b[39;00m\n\u001b[1;32m    241\u001b[0m \u001b[38;5;28mself\u001b[39m\u001b[38;5;241m.\u001b[39m_data \u001b[38;5;241m=\u001b[39m \u001b[38;5;28mself\u001b[39m\u001b[38;5;241m.\u001b[39m_spectrum_processor\u001b[38;5;241m.\u001b[39mget_spectrum()\n\u001b[0;32m--> 242\u001b[0m \u001b[38;5;28;43mself\u001b[39;49m\u001b[38;5;241;43m.\u001b[39;49m\u001b[43mspectrum_plot\u001b[49m\u001b[38;5;241;43m.\u001b[39;49m\u001b[43mupdate_plot\u001b[49m\u001b[43m(\u001b[49m\u001b[38;5;28;43mself\u001b[39;49m\u001b[38;5;241;43m.\u001b[39;49m\u001b[43m_data\u001b[49m\u001b[43m)\u001b[49m\n",
      "File \u001b[0;32m/usr/local/share/pynq-venv/lib/python3.10/site-packages/rfsystem/spectrum_sweep.py:151\u001b[0m, in \u001b[0;36mSpectrumPlot.update_plot\u001b[0;34m(self, data)\u001b[0m\n\u001b[1;32m    148\u001b[0m \u001b[38;5;28;01mdef\u001b[39;00m \u001b[38;5;21mupdate_plot\u001b[39m(\u001b[38;5;28mself\u001b[39m, data):\n\u001b[1;32m    149\u001b[0m     \u001b[38;5;124;03m\"\"\"Update the contents of the plot with new data.\u001b[39;00m\n\u001b[1;32m    150\u001b[0m \u001b[38;5;124;03m    \"\"\"\u001b[39;00m\n\u001b[0;32m--> 151\u001b[0m     \u001b[38;5;28;43mself\u001b[39;49m\u001b[38;5;241;43m.\u001b[39;49m\u001b[43m_plot\u001b[49m\u001b[38;5;241;43m.\u001b[39;49m\u001b[43mdata\u001b[49m\u001b[43m[\u001b[49m\u001b[38;5;241;43m0\u001b[39;49m\u001b[43m]\u001b[49m\u001b[38;5;241;43m.\u001b[39;49m\u001b[43my\u001b[49m \u001b[38;5;241m=\u001b[39m data\n",
      "File \u001b[0;32m/usr/local/share/pynq-venv/lib/python3.10/site-packages/plotly/basedatatypes.py:4915\u001b[0m, in \u001b[0;36mBasePlotlyType.__setattr__\u001b[0;34m(self, prop, value)\u001b[0m\n\u001b[1;32m   4902\u001b[0m \u001b[38;5;124;03m\"\"\"\u001b[39;00m\n\u001b[1;32m   4903\u001b[0m \u001b[38;5;124;03mParameters\u001b[39;00m\n\u001b[1;32m   4904\u001b[0m \u001b[38;5;124;03m----------\u001b[39;00m\n\u001b[0;32m   (...)\u001b[0m\n\u001b[1;32m   4911\u001b[0m \u001b[38;5;124;03mNone\u001b[39;00m\n\u001b[1;32m   4912\u001b[0m \u001b[38;5;124;03m\"\"\"\u001b[39;00m\n\u001b[1;32m   4913\u001b[0m \u001b[38;5;28;01mif\u001b[39;00m prop\u001b[38;5;241m.\u001b[39mstartswith(\u001b[38;5;124m\"\u001b[39m\u001b[38;5;124m_\u001b[39m\u001b[38;5;124m\"\u001b[39m) \u001b[38;5;129;01mor\u001b[39;00m \u001b[38;5;28mhasattr\u001b[39m(\u001b[38;5;28mself\u001b[39m, prop) \u001b[38;5;129;01mor\u001b[39;00m prop \u001b[38;5;129;01min\u001b[39;00m \u001b[38;5;28mself\u001b[39m\u001b[38;5;241m.\u001b[39m_valid_props:\n\u001b[1;32m   4914\u001b[0m     \u001b[38;5;66;03m# Let known properties and private properties through\u001b[39;00m\n\u001b[0;32m-> 4915\u001b[0m     \u001b[38;5;28;43msuper\u001b[39;49m\u001b[43m(\u001b[49m\u001b[43mBasePlotlyType\u001b[49m\u001b[43m,\u001b[49m\u001b[43m \u001b[49m\u001b[38;5;28;43mself\u001b[39;49m\u001b[43m)\u001b[49m\u001b[38;5;241;43m.\u001b[39;49m\u001b[38;5;21;43m__setattr__\u001b[39;49m\u001b[43m(\u001b[49m\u001b[43mprop\u001b[49m\u001b[43m,\u001b[49m\u001b[43m \u001b[49m\u001b[43mvalue\u001b[49m\u001b[43m)\u001b[49m\n\u001b[1;32m   4916\u001b[0m \u001b[38;5;28;01melse\u001b[39;00m:\n\u001b[1;32m   4917\u001b[0m     \u001b[38;5;66;03m# Raise error on unknown public properties\u001b[39;00m\n\u001b[1;32m   4918\u001b[0m     \u001b[38;5;28mself\u001b[39m\u001b[38;5;241m.\u001b[39m_raise_on_invalid_property_error()(prop)\n",
      "File \u001b[0;32m/usr/local/share/pynq-venv/lib/python3.10/site-packages/plotly/graph_objs/_scatter.py:1992\u001b[0m, in \u001b[0;36mScatter.y\u001b[0;34m(self, val)\u001b[0m\n\u001b[1;32m   1990\u001b[0m \u001b[38;5;129m@y\u001b[39m\u001b[38;5;241m.\u001b[39msetter\n\u001b[1;32m   1991\u001b[0m \u001b[38;5;28;01mdef\u001b[39;00m \u001b[38;5;21my\u001b[39m(\u001b[38;5;28mself\u001b[39m, val):\n\u001b[0;32m-> 1992\u001b[0m     \u001b[38;5;28;43mself\u001b[39;49m\u001b[43m[\u001b[49m\u001b[38;5;124;43m\"\u001b[39;49m\u001b[38;5;124;43my\u001b[39;49m\u001b[38;5;124;43m\"\u001b[39;49m\u001b[43m]\u001b[49m \u001b[38;5;241m=\u001b[39m val\n",
      "File \u001b[0;32m/usr/local/share/pynq-venv/lib/python3.10/site-packages/plotly/basedatatypes.py:4859\u001b[0m, in \u001b[0;36mBasePlotlyType.__setitem__\u001b[0;34m(self, prop, value)\u001b[0m\n\u001b[1;32m   4855\u001b[0m         \u001b[38;5;28mself\u001b[39m\u001b[38;5;241m.\u001b[39m_set_array_prop(prop, value)\n\u001b[1;32m   4857\u001b[0m     \u001b[38;5;66;03m# ### Handle simple property ###\u001b[39;00m\n\u001b[1;32m   4858\u001b[0m     \u001b[38;5;28;01melse\u001b[39;00m:\n\u001b[0;32m-> 4859\u001b[0m         \u001b[38;5;28;43mself\u001b[39;49m\u001b[38;5;241;43m.\u001b[39;49m\u001b[43m_set_prop\u001b[49m\u001b[43m(\u001b[49m\u001b[43mprop\u001b[49m\u001b[43m,\u001b[49m\u001b[43m \u001b[49m\u001b[43mvalue\u001b[49m\u001b[43m)\u001b[49m\n\u001b[1;32m   4860\u001b[0m \u001b[38;5;28;01melse\u001b[39;00m:\n\u001b[1;32m   4861\u001b[0m     \u001b[38;5;66;03m# Make sure properties dict is initialized\u001b[39;00m\n\u001b[1;32m   4862\u001b[0m     \u001b[38;5;28mself\u001b[39m\u001b[38;5;241m.\u001b[39m_init_props()\n",
      "File \u001b[0;32m/usr/local/share/pynq-venv/lib/python3.10/site-packages/plotly/basedatatypes.py:5232\u001b[0m, in \u001b[0;36mBasePlotlyType._set_prop\u001b[0;34m(self, prop, val)\u001b[0m\n\u001b[1;32m   5229\u001b[0m             \u001b[38;5;28mself\u001b[39m\u001b[38;5;241m.\u001b[39m_props[prop] \u001b[38;5;241m=\u001b[39m val\n\u001b[1;32m   5231\u001b[0m         \u001b[38;5;66;03m# Send property update message\u001b[39;00m\n\u001b[0;32m-> 5232\u001b[0m         \u001b[38;5;28;43mself\u001b[39;49m\u001b[38;5;241;43m.\u001b[39;49m\u001b[43m_send_prop_set\u001b[49m\u001b[43m(\u001b[49m\u001b[43mprop\u001b[49m\u001b[43m,\u001b[49m\u001b[43m \u001b[49m\u001b[43mval\u001b[49m\u001b[43m)\u001b[49m\n\u001b[1;32m   5234\u001b[0m \u001b[38;5;28;01mreturn\u001b[39;00m val\n",
      "File \u001b[0;32m/usr/local/share/pynq-venv/lib/python3.10/site-packages/plotly/basedatatypes.py:5901\u001b[0m, in \u001b[0;36mBaseTraceHierarchyType._send_prop_set\u001b[0;34m(self, prop_path_str, val)\u001b[0m\n\u001b[1;32m   5898\u001b[0m \u001b[38;5;28;01mdef\u001b[39;00m \u001b[38;5;21m_send_prop_set\u001b[39m(\u001b[38;5;28mself\u001b[39m, prop_path_str, val):\n\u001b[1;32m   5899\u001b[0m     \u001b[38;5;28;01mif\u001b[39;00m \u001b[38;5;28mself\u001b[39m\u001b[38;5;241m.\u001b[39mparent:\n\u001b[1;32m   5900\u001b[0m         \u001b[38;5;66;03m# ### Inform parent of restyle operation ###\u001b[39;00m\n\u001b[0;32m-> 5901\u001b[0m         \u001b[38;5;28;43mself\u001b[39;49m\u001b[38;5;241;43m.\u001b[39;49m\u001b[43mparent\u001b[49m\u001b[38;5;241;43m.\u001b[39;49m\u001b[43m_restyle_child\u001b[49m\u001b[43m(\u001b[49m\u001b[38;5;28;43mself\u001b[39;49m\u001b[43m,\u001b[49m\u001b[43m \u001b[49m\u001b[43mprop_path_str\u001b[49m\u001b[43m,\u001b[49m\u001b[43m \u001b[49m\u001b[43mval\u001b[49m\u001b[43m)\u001b[49m\n",
      "File \u001b[0;32m/usr/local/share/pynq-venv/lib/python3.10/site-packages/plotly/basedatatypes.py:1780\u001b[0m, in \u001b[0;36mBaseFigure._restyle_child\u001b[0;34m(self, child, key_path_str, val)\u001b[0m\n\u001b[1;32m   1778\u001b[0m     send_val \u001b[38;5;241m=\u001b[39m [val]\n\u001b[1;32m   1779\u001b[0m     restyle \u001b[38;5;241m=\u001b[39m {key_path_str: send_val}\n\u001b[0;32m-> 1780\u001b[0m     \u001b[38;5;28;43mself\u001b[39;49m\u001b[38;5;241;43m.\u001b[39;49m\u001b[43m_send_restyle_msg\u001b[49m\u001b[43m(\u001b[49m\u001b[43mrestyle\u001b[49m\u001b[43m,\u001b[49m\u001b[43m \u001b[49m\u001b[43mtrace_indexes\u001b[49m\u001b[38;5;241;43m=\u001b[39;49m\u001b[43mtrace_index\u001b[49m\u001b[43m)\u001b[49m\n\u001b[1;32m   1781\u001b[0m     \u001b[38;5;28mself\u001b[39m\u001b[38;5;241m.\u001b[39m_dispatch_trace_change_callbacks(restyle, [trace_index])\n\u001b[1;32m   1783\u001b[0m \u001b[38;5;66;03m# In batch mode\u001b[39;00m\n\u001b[1;32m   1784\u001b[0m \u001b[38;5;66;03m# -------------\u001b[39;00m\n\u001b[1;32m   1785\u001b[0m \u001b[38;5;66;03m# Add key_path_str/val to saved batch edits\u001b[39;00m\n\u001b[1;32m   1786\u001b[0m \u001b[38;5;28;01melse\u001b[39;00m:\n",
      "File \u001b[0;32m/usr/local/share/pynq-venv/lib/python3.10/site-packages/plotly/basewidget.py:240\u001b[0m, in \u001b[0;36mBaseFigureWidget._send_restyle_msg\u001b[0;34m(self, restyle_data, trace_indexes, source_view_id)\u001b[0m\n\u001b[1;32m    230\u001b[0m restyle_msg \u001b[38;5;241m=\u001b[39m {\n\u001b[1;32m    231\u001b[0m     \u001b[38;5;124m\"\u001b[39m\u001b[38;5;124mrestyle_data\u001b[39m\u001b[38;5;124m\"\u001b[39m: restyle_data,\n\u001b[1;32m    232\u001b[0m     \u001b[38;5;124m\"\u001b[39m\u001b[38;5;124mrestyle_traces\u001b[39m\u001b[38;5;124m\"\u001b[39m: trace_indexes,\n\u001b[0;32m   (...)\u001b[0m\n\u001b[1;32m    235\u001b[0m     \u001b[38;5;124m\"\u001b[39m\u001b[38;5;124msource_view_id\u001b[39m\u001b[38;5;124m\"\u001b[39m: source_view_id,\n\u001b[1;32m    236\u001b[0m }\n\u001b[1;32m    238\u001b[0m \u001b[38;5;66;03m# Send message\u001b[39;00m\n\u001b[1;32m    239\u001b[0m \u001b[38;5;66;03m# ------------\u001b[39;00m\n\u001b[0;32m--> 240\u001b[0m \u001b[38;5;28;43mself\u001b[39;49m\u001b[38;5;241;43m.\u001b[39;49m\u001b[43m_py2js_restyle\u001b[49m \u001b[38;5;241m=\u001b[39m restyle_msg\n\u001b[1;32m    241\u001b[0m \u001b[38;5;28mself\u001b[39m\u001b[38;5;241m.\u001b[39m_py2js_restyle \u001b[38;5;241m=\u001b[39m \u001b[38;5;28;01mNone\u001b[39;00m\n",
      "File \u001b[0;32m/usr/local/share/pynq-venv/lib/python3.10/site-packages/plotly/basedatatypes.py:719\u001b[0m, in \u001b[0;36mBaseFigure.__setattr__\u001b[0;34m(self, prop, value)\u001b[0m\n\u001b[1;32m    706\u001b[0m \u001b[38;5;124;03m\"\"\"\u001b[39;00m\n\u001b[1;32m    707\u001b[0m \u001b[38;5;124;03mParameters\u001b[39;00m\n\u001b[1;32m    708\u001b[0m \u001b[38;5;124;03m----------\u001b[39;00m\n\u001b[0;32m   (...)\u001b[0m\n\u001b[1;32m    715\u001b[0m \u001b[38;5;124;03mNone\u001b[39;00m\n\u001b[1;32m    716\u001b[0m \u001b[38;5;124;03m\"\"\"\u001b[39;00m\n\u001b[1;32m    717\u001b[0m \u001b[38;5;28;01mif\u001b[39;00m prop\u001b[38;5;241m.\u001b[39mstartswith(\u001b[38;5;124m\"\u001b[39m\u001b[38;5;124m_\u001b[39m\u001b[38;5;124m\"\u001b[39m) \u001b[38;5;129;01mor\u001b[39;00m \u001b[38;5;28mhasattr\u001b[39m(\u001b[38;5;28mself\u001b[39m, prop):\n\u001b[1;32m    718\u001b[0m     \u001b[38;5;66;03m# Let known properties and private properties through\u001b[39;00m\n\u001b[0;32m--> 719\u001b[0m     \u001b[38;5;28;43msuper\u001b[39;49m\u001b[43m(\u001b[49m\u001b[43mBaseFigure\u001b[49m\u001b[43m,\u001b[49m\u001b[43m \u001b[49m\u001b[38;5;28;43mself\u001b[39;49m\u001b[43m)\u001b[49m\u001b[38;5;241;43m.\u001b[39;49m\u001b[38;5;21;43m__setattr__\u001b[39;49m\u001b[43m(\u001b[49m\u001b[43mprop\u001b[49m\u001b[43m,\u001b[49m\u001b[43m \u001b[49m\u001b[43mvalue\u001b[49m\u001b[43m)\u001b[49m\n\u001b[1;32m    720\u001b[0m \u001b[38;5;28;01melse\u001b[39;00m:\n\u001b[1;32m    721\u001b[0m     \u001b[38;5;66;03m# Raise error on unknown public properties\u001b[39;00m\n\u001b[1;32m    722\u001b[0m     \u001b[38;5;28;01mraise\u001b[39;00m \u001b[38;5;167;01mAttributeError\u001b[39;00m(prop)\n",
      "File \u001b[0;32m/usr/local/share/pynq-venv/lib/python3.10/site-packages/traitlets/traitlets.py:715\u001b[0m, in \u001b[0;36mTraitType.__set__\u001b[0;34m(self, obj, value)\u001b[0m\n\u001b[1;32m    713\u001b[0m     \u001b[38;5;28;01mraise\u001b[39;00m TraitError(\u001b[38;5;124m'\u001b[39m\u001b[38;5;124mThe \u001b[39m\u001b[38;5;124m\"\u001b[39m\u001b[38;5;132;01m%s\u001b[39;00m\u001b[38;5;124m\"\u001b[39m\u001b[38;5;124m trait is read-only.\u001b[39m\u001b[38;5;124m'\u001b[39m \u001b[38;5;241m%\u001b[39m \u001b[38;5;28mself\u001b[39m\u001b[38;5;241m.\u001b[39mname)\n\u001b[1;32m    714\u001b[0m \u001b[38;5;28;01melse\u001b[39;00m:\n\u001b[0;32m--> 715\u001b[0m     \u001b[38;5;28;43mself\u001b[39;49m\u001b[38;5;241;43m.\u001b[39;49m\u001b[43mset\u001b[49m\u001b[43m(\u001b[49m\u001b[43mobj\u001b[49m\u001b[43m,\u001b[49m\u001b[43m \u001b[49m\u001b[43mvalue\u001b[49m\u001b[43m)\u001b[49m\n",
      "File \u001b[0;32m/usr/local/share/pynq-venv/lib/python3.10/site-packages/traitlets/traitlets.py:704\u001b[0m, in \u001b[0;36mTraitType.set\u001b[0;34m(self, obj, value)\u001b[0m\n\u001b[1;32m    700\u001b[0m     silent \u001b[38;5;241m=\u001b[39m \u001b[38;5;28;01mFalse\u001b[39;00m\n\u001b[1;32m    701\u001b[0m \u001b[38;5;28;01mif\u001b[39;00m silent \u001b[38;5;129;01mis\u001b[39;00m \u001b[38;5;129;01mnot\u001b[39;00m \u001b[38;5;28;01mTrue\u001b[39;00m:\n\u001b[1;32m    702\u001b[0m     \u001b[38;5;66;03m# we explicitly compare silent to True just in case the equality\u001b[39;00m\n\u001b[1;32m    703\u001b[0m     \u001b[38;5;66;03m# comparison above returns something other than True/False\u001b[39;00m\n\u001b[0;32m--> 704\u001b[0m     \u001b[43mobj\u001b[49m\u001b[38;5;241;43m.\u001b[39;49m\u001b[43m_notify_trait\u001b[49m\u001b[43m(\u001b[49m\u001b[38;5;28;43mself\u001b[39;49m\u001b[38;5;241;43m.\u001b[39;49m\u001b[43mname\u001b[49m\u001b[43m,\u001b[49m\u001b[43m \u001b[49m\u001b[43mold_value\u001b[49m\u001b[43m,\u001b[49m\u001b[43m \u001b[49m\u001b[43mnew_value\u001b[49m\u001b[43m)\u001b[49m\n",
      "File \u001b[0;32m/usr/local/share/pynq-venv/lib/python3.10/site-packages/traitlets/traitlets.py:1374\u001b[0m, in \u001b[0;36mHasTraits._notify_trait\u001b[0;34m(self, name, old_value, new_value)\u001b[0m\n\u001b[1;32m   1373\u001b[0m \u001b[38;5;28;01mdef\u001b[39;00m \u001b[38;5;21m_notify_trait\u001b[39m(\u001b[38;5;28mself\u001b[39m, name, old_value, new_value):\n\u001b[0;32m-> 1374\u001b[0m     \u001b[38;5;28;43mself\u001b[39;49m\u001b[38;5;241;43m.\u001b[39;49m\u001b[43mnotify_change\u001b[49m\u001b[43m(\u001b[49m\n\u001b[1;32m   1375\u001b[0m \u001b[43m        \u001b[49m\u001b[43mBunch\u001b[49m\u001b[43m(\u001b[49m\n\u001b[1;32m   1376\u001b[0m \u001b[43m            \u001b[49m\u001b[43mname\u001b[49m\u001b[38;5;241;43m=\u001b[39;49m\u001b[43mname\u001b[49m\u001b[43m,\u001b[49m\n\u001b[1;32m   1377\u001b[0m \u001b[43m            \u001b[49m\u001b[43mold\u001b[49m\u001b[38;5;241;43m=\u001b[39;49m\u001b[43mold_value\u001b[49m\u001b[43m,\u001b[49m\n\u001b[1;32m   1378\u001b[0m \u001b[43m            \u001b[49m\u001b[43mnew\u001b[49m\u001b[38;5;241;43m=\u001b[39;49m\u001b[43mnew_value\u001b[49m\u001b[43m,\u001b[49m\n\u001b[1;32m   1379\u001b[0m \u001b[43m            \u001b[49m\u001b[43mowner\u001b[49m\u001b[38;5;241;43m=\u001b[39;49m\u001b[38;5;28;43mself\u001b[39;49m\u001b[43m,\u001b[49m\n\u001b[1;32m   1380\u001b[0m \u001b[43m            \u001b[49m\u001b[38;5;28;43mtype\u001b[39;49m\u001b[38;5;241;43m=\u001b[39;49m\u001b[38;5;124;43m\"\u001b[39;49m\u001b[38;5;124;43mchange\u001b[39;49m\u001b[38;5;124;43m\"\u001b[39;49m\u001b[43m,\u001b[49m\n\u001b[1;32m   1381\u001b[0m \u001b[43m        \u001b[49m\u001b[43m)\u001b[49m\n\u001b[1;32m   1382\u001b[0m \u001b[43m    \u001b[49m\u001b[43m)\u001b[49m\n",
      "File \u001b[0;32m/usr/local/share/pynq-venv/lib/python3.10/site-packages/ipywidgets/widgets/widget.py:685\u001b[0m, in \u001b[0;36mWidget.notify_change\u001b[0;34m(self, change)\u001b[0m\n\u001b[1;32m    681\u001b[0m \u001b[38;5;28;01mif\u001b[39;00m \u001b[38;5;28mself\u001b[39m\u001b[38;5;241m.\u001b[39mcomm \u001b[38;5;129;01mis\u001b[39;00m \u001b[38;5;129;01mnot\u001b[39;00m \u001b[38;5;28;01mNone\u001b[39;00m \u001b[38;5;129;01mand\u001b[39;00m \u001b[38;5;28mself\u001b[39m\u001b[38;5;241m.\u001b[39mcomm\u001b[38;5;241m.\u001b[39mkernel \u001b[38;5;129;01mis\u001b[39;00m \u001b[38;5;129;01mnot\u001b[39;00m \u001b[38;5;28;01mNone\u001b[39;00m:\n\u001b[1;32m    682\u001b[0m     \u001b[38;5;66;03m# Make sure this isn't information that the front-end just sent us.\u001b[39;00m\n\u001b[1;32m    683\u001b[0m     \u001b[38;5;28;01mif\u001b[39;00m name \u001b[38;5;129;01min\u001b[39;00m \u001b[38;5;28mself\u001b[39m\u001b[38;5;241m.\u001b[39mkeys \u001b[38;5;129;01mand\u001b[39;00m \u001b[38;5;28mself\u001b[39m\u001b[38;5;241m.\u001b[39m_should_send_property(name, \u001b[38;5;28mgetattr\u001b[39m(\u001b[38;5;28mself\u001b[39m, name)):\n\u001b[1;32m    684\u001b[0m         \u001b[38;5;66;03m# Send new state to front-end\u001b[39;00m\n\u001b[0;32m--> 685\u001b[0m         \u001b[38;5;28;43mself\u001b[39;49m\u001b[38;5;241;43m.\u001b[39;49m\u001b[43msend_state\u001b[49m\u001b[43m(\u001b[49m\u001b[43mkey\u001b[49m\u001b[38;5;241;43m=\u001b[39;49m\u001b[43mname\u001b[49m\u001b[43m)\u001b[49m\n\u001b[1;32m    686\u001b[0m \u001b[38;5;28msuper\u001b[39m(Widget, \u001b[38;5;28mself\u001b[39m)\u001b[38;5;241m.\u001b[39mnotify_change(change)\n",
      "File \u001b[0;32m/usr/local/share/pynq-venv/lib/python3.10/site-packages/ipywidgets/widgets/widget.py:546\u001b[0m, in \u001b[0;36mWidget.send_state\u001b[0;34m(self, key)\u001b[0m\n\u001b[1;32m    538\u001b[0m \u001b[38;5;28;01mdef\u001b[39;00m \u001b[38;5;21msend_state\u001b[39m(\u001b[38;5;28mself\u001b[39m, key\u001b[38;5;241m=\u001b[39m\u001b[38;5;28;01mNone\u001b[39;00m):\n\u001b[1;32m    539\u001b[0m     \u001b[38;5;124;03m\"\"\"Sends the widget state, or a piece of it, to the front-end, if it exists.\u001b[39;00m\n\u001b[1;32m    540\u001b[0m \n\u001b[1;32m    541\u001b[0m \u001b[38;5;124;03m    Parameters\u001b[39;00m\n\u001b[0;32m   (...)\u001b[0m\n\u001b[1;32m    544\u001b[0m \u001b[38;5;124;03m        A single property's name or iterable of property names to sync with the front-end.\u001b[39;00m\n\u001b[1;32m    545\u001b[0m \u001b[38;5;124;03m    \"\"\"\u001b[39;00m\n\u001b[0;32m--> 546\u001b[0m     state \u001b[38;5;241m=\u001b[39m \u001b[38;5;28;43mself\u001b[39;49m\u001b[38;5;241;43m.\u001b[39;49m\u001b[43mget_state\u001b[49m\u001b[43m(\u001b[49m\u001b[43mkey\u001b[49m\u001b[38;5;241;43m=\u001b[39;49m\u001b[43mkey\u001b[49m\u001b[43m)\u001b[49m\n\u001b[1;32m    547\u001b[0m     \u001b[38;5;28;01mif\u001b[39;00m \u001b[38;5;28mlen\u001b[39m(state) \u001b[38;5;241m>\u001b[39m \u001b[38;5;241m0\u001b[39m:\n\u001b[1;32m    548\u001b[0m         \u001b[38;5;28;01mif\u001b[39;00m \u001b[38;5;28mself\u001b[39m\u001b[38;5;241m.\u001b[39m_property_lock:  \u001b[38;5;66;03m# we need to keep this dict up to date with the front-end values\u001b[39;00m\n",
      "File \u001b[0;32m/usr/local/share/pynq-venv/lib/python3.10/site-packages/ipywidgets/widgets/widget.py:580\u001b[0m, in \u001b[0;36mWidget.get_state\u001b[0;34m(self, key, drop_defaults)\u001b[0m\n\u001b[1;32m    578\u001b[0m     \u001b[38;5;28;01mraise\u001b[39;00m \u001b[38;5;167;01mValueError\u001b[39;00m(\u001b[38;5;124m\"\u001b[39m\u001b[38;5;124mkey must be a string, an iterable of keys, or None\u001b[39m\u001b[38;5;124m\"\u001b[39m)\n\u001b[1;32m    579\u001b[0m state \u001b[38;5;241m=\u001b[39m {}\n\u001b[0;32m--> 580\u001b[0m traits \u001b[38;5;241m=\u001b[39m \u001b[38;5;28;43mself\u001b[39;49m\u001b[38;5;241;43m.\u001b[39;49m\u001b[43mtraits\u001b[49m\u001b[43m(\u001b[49m\u001b[43m)\u001b[49m\n\u001b[1;32m    581\u001b[0m \u001b[38;5;28;01mfor\u001b[39;00m k \u001b[38;5;129;01min\u001b[39;00m keys:\n\u001b[1;32m    582\u001b[0m     to_json \u001b[38;5;241m=\u001b[39m \u001b[38;5;28mself\u001b[39m\u001b[38;5;241m.\u001b[39mtrait_metadata(k, \u001b[38;5;124m'\u001b[39m\u001b[38;5;124mto_json\u001b[39m\u001b[38;5;124m'\u001b[39m, \u001b[38;5;28mself\u001b[39m\u001b[38;5;241m.\u001b[39m_trait_to_json)\n",
      "File \u001b[0;32m/usr/local/share/pynq-venv/lib/python3.10/site-packages/traitlets/traitlets.py:1781\u001b[0m, in \u001b[0;36mHasTraits.traits\u001b[0;34m(self, **metadata)\u001b[0m\n\u001b[1;32m   1766\u001b[0m \u001b[38;5;28;01mdef\u001b[39;00m \u001b[38;5;21mtraits\u001b[39m(\u001b[38;5;28mself\u001b[39m, \u001b[38;5;241m*\u001b[39m\u001b[38;5;241m*\u001b[39mmetadata):\n\u001b[1;32m   1767\u001b[0m     \u001b[38;5;124;03m\"\"\"Get a ``dict`` of all the traits of this class.  The dictionary\u001b[39;00m\n\u001b[1;32m   1768\u001b[0m \u001b[38;5;124;03m    is keyed on the name and the values are the TraitType objects.\u001b[39;00m\n\u001b[1;32m   1769\u001b[0m \n\u001b[0;32m   (...)\u001b[0m\n\u001b[1;32m   1778\u001b[0m \u001b[38;5;124;03m    to the function.\u001b[39;00m\n\u001b[1;32m   1779\u001b[0m \u001b[38;5;124;03m    \"\"\"\u001b[39;00m\n\u001b[1;32m   1780\u001b[0m     traits \u001b[38;5;241m=\u001b[39m \u001b[38;5;28mdict\u001b[39m(\n\u001b[0;32m-> 1781\u001b[0m         [memb \u001b[38;5;28;01mfor\u001b[39;00m memb \u001b[38;5;129;01min\u001b[39;00m \u001b[43mgetmembers\u001b[49m\u001b[43m(\u001b[49m\u001b[38;5;28;43mself\u001b[39;49m\u001b[38;5;241;43m.\u001b[39;49m\u001b[38;5;18;43m__class__\u001b[39;49m\u001b[43m)\u001b[49m \u001b[38;5;28;01mif\u001b[39;00m \u001b[38;5;28misinstance\u001b[39m(memb[\u001b[38;5;241m1\u001b[39m], TraitType)]\n\u001b[1;32m   1782\u001b[0m     )\n\u001b[1;32m   1784\u001b[0m     \u001b[38;5;28;01mif\u001b[39;00m \u001b[38;5;28mlen\u001b[39m(metadata) \u001b[38;5;241m==\u001b[39m \u001b[38;5;241m0\u001b[39m:\n\u001b[1;32m   1785\u001b[0m         \u001b[38;5;28;01mreturn\u001b[39;00m traits\n",
      "File \u001b[0;32m/usr/local/share/pynq-venv/lib/python3.10/site-packages/traitlets/traitlets.py:284\u001b[0m, in \u001b[0;36mgetmembers\u001b[0;34m(object, predicate)\u001b[0m\n\u001b[1;32m    277\u001b[0m \u001b[38;5;124;03m\"\"\"A safe version of inspect.getmembers that handles missing attributes.\u001b[39;00m\n\u001b[1;32m    278\u001b[0m \n\u001b[1;32m    279\u001b[0m \u001b[38;5;124;03mThis is useful when there are descriptor based attributes that for\u001b[39;00m\n\u001b[1;32m    280\u001b[0m \u001b[38;5;124;03msome reason raise AttributeError even though they exist.  This happens\u001b[39;00m\n\u001b[1;32m    281\u001b[0m \u001b[38;5;124;03min zope.inteface with the __provides__ attribute.\u001b[39;00m\n\u001b[1;32m    282\u001b[0m \u001b[38;5;124;03m\"\"\"\u001b[39;00m\n\u001b[1;32m    283\u001b[0m results \u001b[38;5;241m=\u001b[39m []\n\u001b[0;32m--> 284\u001b[0m \u001b[38;5;28;01mfor\u001b[39;00m key \u001b[38;5;129;01min\u001b[39;00m \u001b[38;5;28;43mdir\u001b[39;49m\u001b[43m(\u001b[49m\u001b[38;5;28;43mobject\u001b[39;49m\u001b[43m)\u001b[49m:\n\u001b[1;32m    285\u001b[0m     \u001b[38;5;28;01mtry\u001b[39;00m:\n\u001b[1;32m    286\u001b[0m         value \u001b[38;5;241m=\u001b[39m \u001b[38;5;28mgetattr\u001b[39m(\u001b[38;5;28mobject\u001b[39m, key)\n",
      "\u001b[0;31mKeyboardInterrupt\u001b[0m: "
     ]
    }
   ],
   "source": [
    "for led in overlay.leds:\n",
    "    led.on()\n",
    "    \n",
    "power = overlay.switches.read()+4;\n",
    "number_samples = 2**power\n",
    "\n",
    "#---Send UPD---\n",
    "if (power > 15):\n",
    "    print(\"Packet size incorrect, power value should be in range 4 to 15.\")\n",
    "else:\n",
    "    while(overlay.buttons[0].read()==0):\n",
    "        sock.sendto(np.array(adc.transferIQ(number_samples)), (UDP_IP, UDP_PORT)) \n",
    "                    #np.array per passar de list a array\n",
    "        for analyser in analysers:\n",
    "            analyser.update_spectrum()\n",
    "\n",
    "print('End of connection...')\n",
    "for led in overlay.leds:\n",
    "    led.off()"
   ]
  },
  {
   "cell_type": "code",
   "execution_count": null,
   "id": "82610266",
   "metadata": {
    "scrolled": false
   },
   "outputs": [],
   "source": [
    "#Si error OSError: [Errno 90] Message too long:\n",
    "#\n",
    "    #You can do that by changing the MTU (Maximum Transfer Unit) of your interface. \n",
    "    #This is the maximal number of bytes a frame can contain.\n",
    "    #\n",
    "    #ifconfig eth0 mtu 2000 up\n",
    "    \n",
    "#Ara per ara (20-10-23), es queixa quan són més de \"Power value: 13\""
   ]
  }
 ],
 "metadata": {
  "kernelspec": {
   "display_name": "Python 3 (ipykernel)",
   "language": "python",
   "name": "python3"
  },
  "language_info": {
   "codemirror_mode": {
    "name": "ipython",
    "version": 3
   },
   "file_extension": ".py",
   "mimetype": "text/x-python",
   "name": "python",
   "nbconvert_exporter": "python",
   "pygments_lexer": "ipython3",
   "version": "3.10.4"
  }
 },
 "nbformat": 4,
 "nbformat_minor": 5
}
